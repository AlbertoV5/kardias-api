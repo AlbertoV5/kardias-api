{
 "cells": [
  {
   "cell_type": "code",
   "execution_count": 20,
   "metadata": {},
   "outputs": [
    {
     "data": {
      "text/plain": [
       "'{\"amount\": 5, \"page\": 0, \"columns\": {\"gender\": {\"min\": 0, \"max\": 1}, \"age_days\": {\"min\": 0, \"max\": 36500}, \"weight_kg\": {\"min\": 0, \"max\": 200}, \"height_cm\": {\"min\": 0, \"max\": 2000}, \"cx_previous\": {\"min\": 0, \"max\": 10}, \"date_birth\": {\"min\": \"1900-01-01\", \"max\": \"2100-01-01\"}, \"date_procedure\": {\"min\": \"2000-01-01\", \"max\": \"2100-01-01\"}, \"rachs\": {\"min\": 1, \"max\": 6}, \"stay_days\": {\"min\": 0, \"max\": 500}, \"expired\": {\"min\": 0, \"max\": 1}}}'"
      ]
     },
     "execution_count": 20,
     "metadata": {},
     "output_type": "execute_result"
    }
   ],
   "source": [
    "import requests\n",
    "import json\n",
    "\n",
    "URL = \"https://fxnqc075vd.execute-api.us-east-1.amazonaws.com/dev/api/v1\"\n",
    "r = requests.get(URL)\n",
    "body = json.dumps(\n",
    "    {\n",
    "  \"amount\": 5,\n",
    "  \"page\": 0,\n",
    "  \"columns\": {\n",
    "    \"gender\": {\n",
    "      \"min\": 0,\n",
    "      \"max\": 1\n",
    "    },\n",
    "    \"age_days\": {\n",
    "      \"min\": 0,\n",
    "      \"max\": 36500\n",
    "    },\n",
    "    \"weight_kg\": {\n",
    "      \"min\": 0,\n",
    "      \"max\": 200\n",
    "    },\n",
    "    \"height_cm\": {\n",
    "      \"min\": 0,\n",
    "      \"max\": 2000\n",
    "    },\n",
    "    \"cx_previous\": {\n",
    "      \"min\": 0,\n",
    "      \"max\": 10\n",
    "    },\n",
    "    \"date_birth\": {\n",
    "      \"min\": \"1900-01-01\",\n",
    "      \"max\": \"2100-01-01\"\n",
    "    },\n",
    "    \"date_procedure\": {\n",
    "      \"min\": \"2000-01-01\",\n",
    "      \"max\": \"2100-01-01\"\n",
    "    },\n",
    "    \"rachs\": {\n",
    "      \"min\": 1,\n",
    "      \"max\": 6\n",
    "    },\n",
    "    \"stay_days\": {\n",
    "      \"min\": 0,\n",
    "      \"max\": 500\n",
    "    },\n",
    "    \"expired\": {\n",
    "      \"min\": 0,\n",
    "      \"max\": 1\n",
    "    }\n",
    "  }\n",
    "}\n",
    ")\n",
    "body"
   ]
  },
  {
   "cell_type": "code",
   "execution_count": 23,
   "metadata": {},
   "outputs": [
    {
     "data": {
      "text/plain": [
       "200"
      ]
     },
     "execution_count": 23,
     "metadata": {},
     "output_type": "execute_result"
    }
   ],
   "source": [
    "r = requests.post(f\"{URL}/patient/\", data=body, allow_redirects=False)\n",
    "r.status_code"
   ]
  },
  {
   "cell_type": "code",
   "execution_count": 24,
   "metadata": {},
   "outputs": [
    {
     "data": {
      "text/plain": [
       "[{'patient_id': 0,\n",
       "  'gender': 0,\n",
       "  'age_days': 3942,\n",
       "  'weight_kg': 35.0,\n",
       "  'height_cm': 134.0,\n",
       "  'cx_previous': 0,\n",
       "  'date_birth': '2001-08-22',\n",
       "  'date_procedure': '2012-04-08',\n",
       "  'rachs': 1,\n",
       "  'stay_days': 2,\n",
       "  'expired': 0},\n",
       " {'patient_id': 1,\n",
       "  'gender': 1,\n",
       "  'age_days': 3202,\n",
       "  'weight_kg': 18.0,\n",
       "  'height_cm': 117.0,\n",
       "  'cx_previous': 0,\n",
       "  'date_birth': '2003-09-19',\n",
       "  'date_procedure': '2012-11-08',\n",
       "  'rachs': 1,\n",
       "  'stay_days': 2,\n",
       "  'expired': 0},\n",
       " {'patient_id': 2,\n",
       "  'gender': 0,\n",
       "  'age_days': 3147,\n",
       "  'weight_kg': 22.0,\n",
       "  'height_cm': 120.0,\n",
       "  'cx_previous': 0,\n",
       "  'date_birth': '2003-11-21',\n",
       "  'date_procedure': '2012-08-18',\n",
       "  'rachs': 1,\n",
       "  'stay_days': 2,\n",
       "  'expired': 0},\n",
       " {'patient_id': 3,\n",
       "  'gender': 0,\n",
       "  'age_days': 4005,\n",
       "  'weight_kg': 42.0,\n",
       "  'height_cm': 147.0,\n",
       "  'cx_previous': 0,\n",
       "  'date_birth': '2001-10-07',\n",
       "  'date_procedure': '2012-08-25',\n",
       "  'rachs': 1,\n",
       "  'stay_days': 2,\n",
       "  'expired': 0},\n",
       " {'patient_id': 4,\n",
       "  'gender': 0,\n",
       "  'age_days': 5289,\n",
       "  'weight_kg': 40.0,\n",
       "  'height_cm': 157.0,\n",
       "  'cx_previous': 0,\n",
       "  'date_birth': '1997-12-22',\n",
       "  'date_procedure': '2012-01-09',\n",
       "  'rachs': 1,\n",
       "  'stay_days': 3,\n",
       "  'expired': 0}]"
      ]
     },
     "execution_count": 24,
     "metadata": {},
     "output_type": "execute_result"
    }
   ],
   "source": [
    "r.json()"
   ]
  }
 ],
 "metadata": {
  "kernelspec": {
   "display_name": "Python 3.9.15 ('venv': venv)",
   "language": "python",
   "name": "python3"
  },
  "language_info": {
   "codemirror_mode": {
    "name": "ipython",
    "version": 3
   },
   "file_extension": ".py",
   "mimetype": "text/x-python",
   "name": "python",
   "nbconvert_exporter": "python",
   "pygments_lexer": "ipython3",
   "version": "3.9.15"
  },
  "orig_nbformat": 4,
  "vscode": {
   "interpreter": {
    "hash": "848b93ba154c6a4a58cc53bf6d831304e219f29a79a7c08007881de432070fc3"
   }
  }
 },
 "nbformat": 4,
 "nbformat_minor": 2
}
